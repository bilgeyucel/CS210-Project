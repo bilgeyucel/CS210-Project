{
 "cells": [
  {
   "cell_type": "code",
   "execution_count": 1,
   "metadata": {
    "collapsed": true
   },
   "outputs": [],
   "source": [
    "import numpy as np\n",
    "import pandas as pd\n",
    "from sklearn import datasets, linear_model\n",
    "import matplotlib.pyplot as plt\n",
    "\n",
    "pd.__version__\n",
    "%matplotlib inline\n"
   ]
  },
  {
   "cell_type": "code",
   "execution_count": 11,
   "metadata": {
    "collapsed": false
   },
   "outputs": [
    {
     "data": {
      "text/html": [
       "<div>\n",
       "<table border=\"1\" class=\"dataframe\">\n",
       "  <thead>\n",
       "    <tr style=\"text-align: right;\">\n",
       "      <th></th>\n",
       "      <th>Year</th>\n",
       "      <th>ticketsSold</th>\n",
       "      <th>totalRevenue</th>\n",
       "      <th>totalNewMovies</th>\n",
       "      <th>totalMovie</th>\n",
       "      <th>ticketPrice</th>\n",
       "      <th>firsFilm</th>\n",
       "      <th>IMDBpoints</th>\n",
       "    </tr>\n",
       "  </thead>\n",
       "  <tbody>\n",
       "    <tr>\n",
       "      <th>0</th>\n",
       "      <td>2016</td>\n",
       "      <td>58287316</td>\n",
       "      <td>691696424</td>\n",
       "      <td>360</td>\n",
       "      <td>529</td>\n",
       "      <td>11.87</td>\n",
       "      <td>Dağ 2</td>\n",
       "      <td>9.8</td>\n",
       "    </tr>\n",
       "    <tr>\n",
       "      <th>1</th>\n",
       "      <td>2015</td>\n",
       "      <td>60228409</td>\n",
       "      <td>678557824</td>\n",
       "      <td>402</td>\n",
       "      <td>530</td>\n",
       "      <td>11.27</td>\n",
       "      <td>Düğün Dernek 2: Sünnet</td>\n",
       "      <td>6.7</td>\n",
       "    </tr>\n",
       "    <tr>\n",
       "      <th>2</th>\n",
       "      <td>2014</td>\n",
       "      <td>61245258</td>\n",
       "      <td>652906723</td>\n",
       "      <td>359</td>\n",
       "      <td>559</td>\n",
       "      <td>10.66</td>\n",
       "      <td>Recep İvedik 4</td>\n",
       "      <td>4.0</td>\n",
       "    </tr>\n",
       "    <tr>\n",
       "      <th>3</th>\n",
       "      <td>2013</td>\n",
       "      <td>50295757</td>\n",
       "      <td>504346814</td>\n",
       "      <td>326</td>\n",
       "      <td>501</td>\n",
       "      <td>10.03</td>\n",
       "      <td>Düğün Dernek</td>\n",
       "      <td>7.4</td>\n",
       "    </tr>\n",
       "    <tr>\n",
       "      <th>4</th>\n",
       "      <td>2012</td>\n",
       "      <td>44339549</td>\n",
       "      <td>425630479</td>\n",
       "      <td>290</td>\n",
       "      <td>494</td>\n",
       "      <td>9.60</td>\n",
       "      <td>Fetih 1453</td>\n",
       "      <td>7.2</td>\n",
       "    </tr>\n",
       "    <tr>\n",
       "      <th>5</th>\n",
       "      <td>2011</td>\n",
       "      <td>42294040</td>\n",
       "      <td>398294091</td>\n",
       "      <td>291</td>\n",
       "      <td>432</td>\n",
       "      <td>9.42</td>\n",
       "      <td>Eyyvah Eyvah 2</td>\n",
       "      <td>6.8</td>\n",
       "    </tr>\n",
       "    <tr>\n",
       "      <th>6</th>\n",
       "      <td>2010</td>\n",
       "      <td>41534146</td>\n",
       "      <td>383369769</td>\n",
       "      <td>247</td>\n",
       "      <td>379</td>\n",
       "      <td>9.23</td>\n",
       "      <td>New York'ta Beş Minare</td>\n",
       "      <td>6.0</td>\n",
       "    </tr>\n",
       "    <tr>\n",
       "      <th>7</th>\n",
       "      <td>2009</td>\n",
       "      <td>36904345</td>\n",
       "      <td>307972617</td>\n",
       "      <td>254</td>\n",
       "      <td>363</td>\n",
       "      <td>8.35</td>\n",
       "      <td>Recep İvedik 2</td>\n",
       "      <td>4.3</td>\n",
       "    </tr>\n",
       "    <tr>\n",
       "      <th>8</th>\n",
       "      <td>2008</td>\n",
       "      <td>38414342</td>\n",
       "      <td>301505935</td>\n",
       "      <td>266</td>\n",
       "      <td>389</td>\n",
       "      <td>7.85</td>\n",
       "      <td>Recep İvedik</td>\n",
       "      <td>4.8</td>\n",
       "    </tr>\n",
       "    <tr>\n",
       "      <th>9</th>\n",
       "      <td>2007</td>\n",
       "      <td>31151309</td>\n",
       "      <td>242328644</td>\n",
       "      <td>256</td>\n",
       "      <td>398</td>\n",
       "      <td>7.78</td>\n",
       "      <td>Beyaz Melek</td>\n",
       "      <td>6.4</td>\n",
       "    </tr>\n",
       "    <tr>\n",
       "      <th>10</th>\n",
       "      <td>2006</td>\n",
       "      <td>34866233</td>\n",
       "      <td>243265499</td>\n",
       "      <td>236</td>\n",
       "      <td>420</td>\n",
       "      <td>6.98</td>\n",
       "      <td>Kurtlar Vadisi: Irak</td>\n",
       "      <td>6.0</td>\n",
       "    </tr>\n",
       "    <tr>\n",
       "      <th>11</th>\n",
       "      <td>2005</td>\n",
       "      <td>27801041</td>\n",
       "      <td>184286246</td>\n",
       "      <td>223</td>\n",
       "      <td>355</td>\n",
       "      <td>6.63</td>\n",
       "      <td>Hababam Sınıfı Askerde</td>\n",
       "      <td>2.9</td>\n",
       "    </tr>\n",
       "  </tbody>\n",
       "</table>\n",
       "</div>"
      ],
      "text/plain": [
       "    Year  ticketsSold totalRevenue  totalNewMovies  totalMovie  ticketPrice  \\\n",
       "0   2016     58287316   691696424              360         529        11.87   \n",
       "1   2015     60228409   678557824              402         530        11.27   \n",
       "2   2014     61245258   652906723              359         559        10.66   \n",
       "3   2013     50295757   504346814              326         501        10.03   \n",
       "4   2012     44339549   425630479              290         494         9.60   \n",
       "5   2011     42294040   398294091              291         432         9.42   \n",
       "6   2010     41534146   383369769              247         379         9.23   \n",
       "7   2009     36904345   307972617              254         363         8.35   \n",
       "8   2008     38414342   301505935              266         389         7.85   \n",
       "9   2007     31151309   242328644              256         398         7.78   \n",
       "10  2006     34866233    243265499             236         420         6.98   \n",
       "11  2005     27801041   184286246              223         355         6.63   \n",
       "\n",
       "                  firsFilm  IMDBpoints  \n",
       "0                    Dağ 2         9.8  \n",
       "1   Düğün Dernek 2: Sünnet         6.7  \n",
       "2           Recep İvedik 4         4.0  \n",
       "3             Düğün Dernek         7.4  \n",
       "4               Fetih 1453         7.2  \n",
       "5           Eyyvah Eyvah 2         6.8  \n",
       "6   New York'ta Beş Minare         6.0  \n",
       "7           Recep İvedik 2         4.3  \n",
       "8             Recep İvedik         4.8  \n",
       "9              Beyaz Melek         6.4  \n",
       "10    Kurtlar Vadisi: Irak         6.0  \n",
       "11  Hababam Sınıfı Askerde         2.9  "
      ]
     },
     "execution_count": 11,
     "metadata": {},
     "output_type": "execute_result"
    }
   ],
   "source": [
    "data = pd.read_csv('Gen.csv')\n",
    "data.head()\n",
    "data"
   ]
  },
  {
   "cell_type": "code",
   "execution_count": 14,
   "metadata": {
    "collapsed": false,
    "scrolled": true
   },
   "outputs": [
    {
     "data": {
      "text/plain": [
       "<matplotlib.axes._subplots.AxesSubplot at 0x18927002860>"
      ]
     },
     "execution_count": 14,
     "metadata": {},
     "output_type": "execute_result"
    },
    {
     "data": {
      "image/png": "[encoded data removed]",
      "text/plain": [
       "<matplotlib.figure.Figure at 0x18926e5e550>"
      ]
     },
     "metadata": {},
     "output_type": "display_data"
    }
   ],
   "source": [
    "fig, axs= plt.subplots(1, 4, sharey = True)\n",
    "data.plot(kind = 'scatter', x = 'IMDBpoints', y = 'ticketsSold', ax=axs[0], figsize=(20,5))\n",
    "data.plot(kind = 'scatter', x = 'totalMovie', y = 'ticketsSold', ax=axs[1])\n",
    "data.plot(kind = 'scatter', x = 'ticketPrice', y = 'ticketsSold', ax=axs[2])\n",
    "data.plot(kind = 'scatter', x = 'Year', y = 'ticketsSold', ax=axs[3])\n",
    "\n",
    "\n"
   ]
  },
  {
   "cell_type": "code",
   "execution_count": 16,
   "metadata": {
    "collapsed": false
   },
   "outputs": [],
   "source": [
    "import numpy as np\n",
    "import statsmodels.api as sm\n",
    "import statsmodels.formula.api as smf"
   ]
  },
  {
   "cell_type": "code",
   "execution_count": 17,
   "metadata": {
    "collapsed": false
   },
   "outputs": [
    {
     "data": {
      "text/plain": [
       "Intercept   -5.978688e+09\n",
       "Year         2.995590e+06\n",
       "dtype: float64"
      ]
     },
     "execution_count": 17,
     "metadata": {},
     "output_type": "execute_result"
    }
   ],
   "source": [
    "li = smf.ols(formula = 'ticketsSold ~ Year', data= data).fit()\n",
    "\n",
    "li.params"
   ]
  },
  {
   "cell_type": "code",
   "execution_count": 19,
   "metadata": {
    "collapsed": false
   },
   "outputs": [
    {
     "data": {
      "text/html": [
       "<div>\n",
       "<table border=\"1\" class=\"dataframe\">\n",
       "  <thead>\n",
       "    <tr style=\"text-align: right;\">\n",
       "      <th></th>\n",
       "      <th>ticketsSold</th>\n",
       "    </tr>\n",
       "  </thead>\n",
       "  <tbody>\n",
       "    <tr>\n",
       "      <th>0</th>\n",
       "      <td>27801041</td>\n",
       "    </tr>\n",
       "    <tr>\n",
       "      <th>1</th>\n",
       "      <td>61245258</td>\n",
       "    </tr>\n",
       "  </tbody>\n",
       "</table>\n",
       "</div>"
      ],
      "text/plain": [
       "   ticketsSold\n",
       "0     27801041\n",
       "1     61245258"
      ]
     },
     "execution_count": 19,
     "metadata": {},
     "output_type": "execute_result"
    }
   ],
   "source": [
    "xNew = pd.DataFrame({'ticketsSold':[data.ticketsSold.min(), data.ticketsSold.max()]})\n",
    "xNew.head()\n"
   ]
  },
  {
   "cell_type": "code",
   "execution_count": 24,
   "metadata": {
    "collapsed": false
   },
   "outputs": [
    {
     "data": {
      "text/html": [
       "<div>\n",
       "<table border=\"1\" class=\"dataframe\">\n",
       "  <thead>\n",
       "    <tr style=\"text-align: right;\">\n",
       "      <th></th>\n",
       "      <th>Year</th>\n",
       "    </tr>\n",
       "  </thead>\n",
       "  <tbody>\n",
       "    <tr>\n",
       "      <th>0</th>\n",
       "      <td>2005</td>\n",
       "    </tr>\n",
       "    <tr>\n",
       "      <th>1</th>\n",
       "      <td>2016</td>\n",
       "    </tr>\n",
       "  </tbody>\n",
       "</table>\n",
       "</div>"
      ],
      "text/plain": [
       "   Year\n",
       "0  2005\n",
       "1  2016"
      ]
     },
     "execution_count": 24,
     "metadata": {},
     "output_type": "execute_result"
    }
   ],
   "source": [
    "xNew = pd.DataFrame({'Year':[data.Year.min(), data.Year.max()]})\n",
    "xNew.head()"
   ]
  },
  {
   "cell_type": "code",
   "execution_count": 25,
   "metadata": {
    "collapsed": false
   },
   "outputs": [
    {
     "data": {
      "text/plain": [
       "array([ 27471065.29486942,  60422558.87179089])"
      ]
     },
     "execution_count": 25,
     "metadata": {},
     "output_type": "execute_result"
    }
   ],
   "source": [
    "assume = li.predict(xNew)\n",
    "assume"
   ]
  },
  {
   "cell_type": "code",
   "execution_count": 27,
   "metadata": {
    "collapsed": false
   },
   "outputs": [
    {
     "data": {
      "text/plain": [
       "[<matplotlib.lines.Line2D at 0x18928724860>]"
      ]
     },
     "execution_count": 27,
     "metadata": {},
     "output_type": "execute_result"
    },
    {
     "data": {
      "image/png": "[encoded data removed]",
      "text/plain": [
       "<matplotlib.figure.Figure at 0x18927110908>"
      ]
     },
     "metadata": {},
     "output_type": "display_data"
    }
   ],
   "source": [
    "data.plot(kind = 'scatter', x = 'Year', y = 'ticketsSold')\n",
    "plt.plot(xNew, assume,  c='yellow', linewidth=3)"
   ]
  },
  {
   "cell_type": "code",
   "execution_count": 28,
   "metadata": {
    "collapsed": false
   },
   "outputs": [
    {
     "data": {
      "text/plain": [
       "Intercept     -1.465045e+07\n",
       "ticketPrice    6.411664e+06\n",
       "dtype: float64"
      ]
     },
     "execution_count": 28,
     "metadata": {},
     "output_type": "execute_result"
    }
   ],
   "source": [
    "lo = smf.ols(formula = 'ticketsSold ~ ticketPrice', data= data).fit()\n",
    "\n",
    "lo.params"
   ]
  },
  {
   "cell_type": "code",
   "execution_count": 29,
   "metadata": {
    "collapsed": false
   },
   "outputs": [
    {
     "data": {
      "text/html": [
       "<div>\n",
       "<table border=\"1\" class=\"dataframe\">\n",
       "  <thead>\n",
       "    <tr style=\"text-align: right;\">\n",
       "      <th></th>\n",
       "      <th>ticketPrice</th>\n",
       "    </tr>\n",
       "  </thead>\n",
       "  <tbody>\n",
       "    <tr>\n",
       "      <th>0</th>\n",
       "      <td>6.63</td>\n",
       "    </tr>\n",
       "    <tr>\n",
       "      <th>1</th>\n",
       "      <td>11.87</td>\n",
       "    </tr>\n",
       "  </tbody>\n",
       "</table>\n",
       "</div>"
      ],
      "text/plain": [
       "   ticketPrice\n",
       "0         6.63\n",
       "1        11.87"
      ]
     },
     "execution_count": 29,
     "metadata": {},
     "output_type": "execute_result"
    }
   ],
   "source": [
    "xNew2 = pd.DataFrame({'ticketPrice':[data.ticketPrice.min(), data.ticketPrice.max()]})\n",
    "xNew2.head()\n"
   ]
  },
  {
   "cell_type": "code",
   "execution_count": 30,
   "metadata": {
    "collapsed": false
   },
   "outputs": [
    {
     "data": {
      "text/plain": [
       "array([ 27858879.55305093,  61455996.70695849])"
      ]
     },
     "execution_count": 30,
     "metadata": {},
     "output_type": "execute_result"
    }
   ],
   "source": [
    "assumelo = lo.predict(xNew2)\n",
    "assumelo"
   ]
  },
  {
   "cell_type": "code",
   "execution_count": 31,
   "metadata": {
    "collapsed": false
   },
   "outputs": [
    {
     "data": {
      "text/plain": [
       "[<matplotlib.lines.Line2D at 0x18928ccac50>]"
      ]
     },
     "execution_count": 31,
     "metadata": {},
     "output_type": "execute_result"
    },
    {
     "data": {
      "image/png": "[encoded data removed]",
      "text/plain": [
       "<matplotlib.figure.Figure at 0x18928c5e3c8>"
      ]
     },
     "metadata": {},
     "output_type": "display_data"
    }
   ],
   "source": [
    "data.plot(kind = 'scatter', x = 'ticketPrice', y = 'ticketsSold')\n",
    "plt.plot(xNew2, assumelo,  c='green', linewidth=3)"
   ]
  },
  {
   "cell_type": "code",
   "execution_count": null,
   "metadata": {
    "collapsed": true
   },
   "outputs": [],
   "source": []
  }
 ],
 "metadata": {
  "kernelspec": {
   "display_name": "Python 3",
   "language": "python",
   "name": "python3"
  },
  "language_info": {
   "codemirror_mode": {
    "name": "ipython",
    "version": 3
   },
   "file_extension": ".py",
   "mimetype": "text/x-python",
   "name": "python",
   "nbconvert_exporter": "python",
   "pygments_lexer": "ipython3",
   "version": "3.6.0"
  }
 },
 "nbformat": 4,
 "nbformat_minor": 2
}
