{
 "cells": [
  {
   "cell_type": "code",
   "execution_count": 1,
   "metadata": {
    "collapsed": true
   },
   "outputs": [],
   "source": [
    "import numpy as np\n",
    "import pandas as pd\n",
    "import matplotlib.pyplot as plt\n",
    "%matplotlib inline\n",
    "\n",
    "data = pd.read_csv('Movies.csv')\n",
    "\n"
   ]
  },
  {
   "cell_type": "code",
   "execution_count": 8,
   "metadata": {
    "collapsed": false
   },
   "outputs": [
    {
     "data": {
      "image/png": "[encoded data removed]",
      "text/plain": [
       "<matplotlib.figure.Figure at 0x273b20cfef0>"
      ]
     },
     "metadata": {},
     "output_type": "display_data"
    }
   ],
   "source": [
    "codata = data.corr()\n",
    "plt.figure(figsize=(10,10))\n",
    "plt.pcolor(codata)\n",
    "plt.colorbar();"
   ]
  },
  {
   "cell_type": "code",
   "execution_count": 3,
   "metadata": {
    "collapsed": false
   },
   "outputs": [
    {
     "data": {
      "text/html": [
       "<div>\n",
       "<table border=\"1\" class=\"dataframe\">\n",
       "  <thead>\n",
       "    <tr style=\"text-align: right;\">\n",
       "      <th></th>\n",
       "      <th>ID</th>\n",
       "      <th>seasonNum</th>\n",
       "      <th>releaseMonth</th>\n",
       "      <th>releaseYear</th>\n",
       "      <th>totalRevenue</th>\n",
       "      <th>ticketsSold</th>\n",
       "      <th>Genre_Enum</th>\n",
       "    </tr>\n",
       "  </thead>\n",
       "  <tbody>\n",
       "    <tr>\n",
       "      <th>ID</th>\n",
       "      <td>1.000000</td>\n",
       "      <td>-0.035071</td>\n",
       "      <td>0.004436</td>\n",
       "      <td>-0.993428</td>\n",
       "      <td>-0.369497</td>\n",
       "      <td>-0.222360</td>\n",
       "      <td>-0.013211</td>\n",
       "    </tr>\n",
       "    <tr>\n",
       "      <th>seasonNum</th>\n",
       "      <td>-0.035071</td>\n",
       "      <td>1.000000</td>\n",
       "      <td>0.584849</td>\n",
       "      <td>0.053147</td>\n",
       "      <td>-0.171580</td>\n",
       "      <td>-0.183479</td>\n",
       "      <td>0.009339</td>\n",
       "    </tr>\n",
       "    <tr>\n",
       "      <th>releaseMonth</th>\n",
       "      <td>0.004436</td>\n",
       "      <td>0.584849</td>\n",
       "      <td>1.000000</td>\n",
       "      <td>-0.016774</td>\n",
       "      <td>0.057176</td>\n",
       "      <td>0.032364</td>\n",
       "      <td>0.002807</td>\n",
       "    </tr>\n",
       "    <tr>\n",
       "      <th>releaseYear</th>\n",
       "      <td>-0.993428</td>\n",
       "      <td>0.053147</td>\n",
       "      <td>-0.016774</td>\n",
       "      <td>1.000000</td>\n",
       "      <td>0.300207</td>\n",
       "      <td>0.146606</td>\n",
       "      <td>0.007296</td>\n",
       "    </tr>\n",
       "    <tr>\n",
       "      <th>totalRevenue</th>\n",
       "      <td>-0.369497</td>\n",
       "      <td>-0.171580</td>\n",
       "      <td>0.057176</td>\n",
       "      <td>0.300207</td>\n",
       "      <td>1.000000</td>\n",
       "      <td>0.972379</td>\n",
       "      <td>-0.003532</td>\n",
       "    </tr>\n",
       "    <tr>\n",
       "      <th>ticketsSold</th>\n",
       "      <td>-0.222360</td>\n",
       "      <td>-0.183479</td>\n",
       "      <td>0.032364</td>\n",
       "      <td>0.146606</td>\n",
       "      <td>0.972379</td>\n",
       "      <td>1.000000</td>\n",
       "      <td>-0.003865</td>\n",
       "    </tr>\n",
       "    <tr>\n",
       "      <th>Genre_Enum</th>\n",
       "      <td>-0.013211</td>\n",
       "      <td>0.009339</td>\n",
       "      <td>0.002807</td>\n",
       "      <td>0.007296</td>\n",
       "      <td>-0.003532</td>\n",
       "      <td>-0.003865</td>\n",
       "      <td>1.000000</td>\n",
       "    </tr>\n",
       "  </tbody>\n",
       "</table>\n",
       "</div>"
      ],
      "text/plain": [
       "                    ID  seasonNum  releaseMonth  releaseYear  totalRevenue  \\\n",
       "ID            1.000000  -0.035071      0.004436    -0.993428     -0.369497   \n",
       "seasonNum    -0.035071   1.000000      0.584849     0.053147     -0.171580   \n",
       "releaseMonth  0.004436   0.584849      1.000000    -0.016774      0.057176   \n",
       "releaseYear  -0.993428   0.053147     -0.016774     1.000000      0.300207   \n",
       "totalRevenue -0.369497  -0.171580      0.057176     0.300207      1.000000   \n",
       "ticketsSold  -0.222360  -0.183479      0.032364     0.146606      0.972379   \n",
       "Genre_Enum   -0.013211   0.009339      0.002807     0.007296     -0.003532   \n",
       "\n",
       "              ticketsSold  Genre_Enum  \n",
       "ID              -0.222360   -0.013211  \n",
       "seasonNum       -0.183479    0.009339  \n",
       "releaseMonth     0.032364    0.002807  \n",
       "releaseYear      0.146606    0.007296  \n",
       "totalRevenue     0.972379   -0.003532  \n",
       "ticketsSold      1.000000   -0.003865  \n",
       "Genre_Enum      -0.003865    1.000000  "
      ]
     },
     "execution_count": 3,
     "metadata": {},
     "output_type": "execute_result"
    }
   ],
   "source": [
    "codata"
   ]
  },
  {
   "cell_type": "code",
   "execution_count": null,
   "metadata": {
    "collapsed": true
   },
   "outputs": [],
   "source": []
  }
 ],
 "metadata": {
  "kernelspec": {
   "display_name": "Python 3",
   "language": "python",
   "name": "python3"
  },
  "language_info": {
   "codemirror_mode": {
    "name": "ipython",
    "version": 3
   },
   "file_extension": ".py",
   "mimetype": "text/x-python",
   "name": "python",
   "nbconvert_exporter": "python",
   "pygments_lexer": "ipython3",
   "version": "3.6.0"
  }
 },
 "nbformat": 4,
 "nbformat_minor": 2
}
